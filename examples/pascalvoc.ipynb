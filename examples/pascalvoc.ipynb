{
 "cells": [
  {
   "cell_type": "code",
   "execution_count": null,
   "metadata": {},
   "outputs": [],
   "source": [
    "# http://host.robots.ox.ac.uk/pascal/VOC/voc2012/index.html\n",
    "\n",
    "# http://preview.d2l.ai/d2l-en/master/chapter_computer-vision/semantic-segmentation-and-dataset.html#the-pascal-voc2012-semantic-segmentation-dataset"
   ]
  },
  {
   "attachments": {},
   "cell_type": "markdown",
   "metadata": {},
   "source": [
    "environment"
   ]
  },
  {
   "cell_type": "code",
   "execution_count": null,
   "metadata": {},
   "outputs": [],
   "source": [
    "using Pkg\n",
    "envpath = expanduser(\"~/envs/dev/\")\n",
    "Pkg.activate(envpath)"
   ]
  },
  {
   "attachments": {},
   "cell_type": "markdown",
   "metadata": {},
   "source": [
    "libraries"
   ]
  },
  {
   "cell_type": "code",
   "execution_count": null,
   "metadata": {},
   "outputs": [],
   "source": [
    "# private libraries\n",
    "using PascalVocTools; pv = PascalVocTools"
   ]
  },
  {
   "cell_type": "code",
   "execution_count": null,
   "metadata": {},
   "outputs": [],
   "source": [
    "# julia libraries\n",
    "using Images\n",
    "using FLoops"
   ]
  },
  {
   "attachments": {},
   "cell_type": "markdown",
   "metadata": {},
   "source": [
    "load dataset: focus on Class Segmentation"
   ]
  },
  {
   "cell_type": "code",
   "execution_count": null,
   "metadata": {},
   "outputs": [],
   "source": [
    "# paths\n",
    "datasetPath = expanduser(\"./pascalvoc/VOCdevkit/VOC2012/\")\n",
    "\n",
    "imagesPath  = datasetPath * \"JPEGImages/\"\n",
    "classesPath = datasetPath * \"SegmentationClass/\"\n",
    "objectsPath = datasetPath * \"SegmentationObject/\""
   ]
  },
  {
   "cell_type": "code",
   "execution_count": null,
   "metadata": {},
   "outputs": [],
   "source": [
    "# segmentation dataset\n",
    "trainFilesTxt = datasetPath * \"ImageSets/Segmentation/train.txt\"\n",
    "validFilesTxt = datasetPath * \"ImageSets/Segmentation/val.txt\"\n",
    "trvalFilesTxt = datasetPath * \"ImageSets/Segmentation/trainval.txt\"\n",
    "filestxt = trainFilesTxt\n",
    "\n",
    "\n",
    "imagesFpfn  = ( imagesPath  .* readlines(filestxt) .* \".jpg\" )\n",
    "classesFpfn = ( classesPath .* readlines(filestxt) .* \".png\" )\n",
    "objectsFpfn = ( objectsPath .* readlines(filestxt) .* \".png\" );"
   ]
  },
  {
   "cell_type": "code",
   "execution_count": null,
   "metadata": {},
   "outputs": [],
   "source": [
    "k = 1\n",
    "im = Images.load(imagesFpfn[k])\n",
    "cl = Images.load(classesFpfn[k])\n",
    "ob = Images.load(objectsFpfn[k])\n",
    "\n",
    "mosaicview(im, cl, ob, nrow=1)"
   ]
  },
  {
   "cell_type": "code",
   "execution_count": null,
   "metadata": {},
   "outputs": [],
   "source": [
    "eltype(cl)"
   ]
  },
  {
   "cell_type": "markdown",
   "metadata": {},
   "source": [
    "picture size: recommended padding (500,500), or better (512,512)"
   ]
  },
  {
   "cell_type": "code",
   "execution_count": null,
   "metadata": {},
   "outputs": [],
   "source": [
    "N = length(imagesFpfn)\n",
    "sizes = Array{Int, 2}(undef, (N,2))\n",
    "\n",
    "@floop for k in 1:N\n",
    "    im = Images.load(imagesFpfn[k])\n",
    "    sizes[k,1], sizes[k,2] = size(im)\n",
    "end\n",
    "\n",
    "minimum(sizes[:,1]), maximum(sizes[:,1])"
   ]
  },
  {
   "cell_type": "code",
   "execution_count": null,
   "metadata": {},
   "outputs": [],
   "source": [
    "minimum(sizes[:,2]), maximum(sizes[:,2])"
   ]
  },
  {
   "cell_type": "markdown",
   "metadata": {},
   "source": [
    "PascalVOC functions"
   ]
  },
  {
   "cell_type": "code",
   "execution_count": null,
   "metadata": {},
   "outputs": [],
   "source": [
    "pv.vec_classes   # 10 => \"cow\""
   ]
  },
  {
   "cell_type": "code",
   "execution_count": null,
   "metadata": {},
   "outputs": [],
   "source": [
    "pv.vec_classnames   # \"cow\" => 10"
   ]
  },
  {
   "cell_type": "code",
   "execution_count": null,
   "metadata": {},
   "outputs": [],
   "source": [
    "pv.vec_colormap   # [64, 128, 0]    => 10"
   ]
  },
  {
   "cell_type": "code",
   "execution_count": null,
   "metadata": {},
   "outputs": [],
   "source": [
    "pv.voc_classname2classnumber(\"cow\") , pv.voc_colormap2classnumber([64,128,0])"
   ]
  },
  {
   "cell_type": "code",
   "execution_count": null,
   "metadata": {},
   "outputs": [],
   "source": [
    "# Return the value stored for the given key, or defaults to zero if the key is not found.\n",
    "pv.voc_colormaps([224,224,192])   # edges"
   ]
  },
  {
   "cell_type": "code",
   "execution_count": null,
   "metadata": {},
   "outputs": [],
   "source": [
    "pv.voc_colormaps([5,5,5])   # not found, returns 0"
   ]
  },
  {
   "cell_type": "markdown",
   "metadata": {},
   "source": [
    "mask conversion"
   ]
  },
  {
   "cell_type": "code",
   "execution_count": null,
   "metadata": {},
   "outputs": [],
   "source": [
    "typeof(cl)"
   ]
  },
  {
   "cell_type": "code",
   "execution_count": null,
   "metadata": {},
   "outputs": [],
   "source": [
    "cl"
   ]
  },
  {
   "cell_type": "code",
   "execution_count": null,
   "metadata": {},
   "outputs": [],
   "source": [
    "cl_out = pv.voc_rgb2classes(cl)\n",
    "unique(cl_out)"
   ]
  },
  {
   "cell_type": "code",
   "execution_count": null,
   "metadata": {},
   "outputs": [],
   "source": [
    "[pv.voc_classnumber2classname(k) for k in unique(cl_out)]"
   ]
  }
 ],
 "metadata": {
  "kernelspec": {
   "display_name": "Julia 1.11.6",
   "language": "julia",
   "name": "julia-1.11"
  },
  "language_info": {
   "file_extension": ".jl",
   "mimetype": "application/julia",
   "name": "julia",
   "version": "1.11.6"
  },
  "orig_nbformat": 4,
  "vscode": {
   "interpreter": {
    "hash": "31f2aee4e71d21fbe5cf8b01ff0e069b9275f58929596ceb00d14d90e3e16cd6"
   }
  }
 },
 "nbformat": 4,
 "nbformat_minor": 2
}
